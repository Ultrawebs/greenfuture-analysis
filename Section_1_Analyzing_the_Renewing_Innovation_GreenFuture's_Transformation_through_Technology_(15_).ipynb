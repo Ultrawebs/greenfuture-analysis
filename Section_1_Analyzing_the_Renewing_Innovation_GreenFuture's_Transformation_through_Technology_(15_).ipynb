{
  "nbformat": 4,
  "nbformat_minor": 0,
  "metadata": {
    "colab": {
      "provenance": []
    },
    "kernelspec": {
      "name": "python3",
      "display_name": "Python 3"
    },
    "language_info": {
      "name": "python"
    }
  },
  "cells": [
    {
      "cell_type": "code",
      "source": [
        "# Install required packages\n",
        "# Use pip to install packages in Python\n",
        "!pip install pandas\n",
        "!pip install rpy2"
      ],
      "metadata": {
        "colab": {
          "base_uri": "https://localhost:8080/"
        },
        "id": "BG12JmyggQ-H",
        "outputId": "4eaaef26-1411-40b9-81b3-8d06250330e1"
      },
      "execution_count": 70,
      "outputs": [
        {
          "output_type": "stream",
          "name": "stdout",
          "text": [
            "Requirement already satisfied: pandas in /usr/local/lib/python3.11/dist-packages (2.2.2)\n",
            "Requirement already satisfied: numpy>=1.23.2 in /usr/local/lib/python3.11/dist-packages (from pandas) (2.0.2)\n",
            "Requirement already satisfied: python-dateutil>=2.8.2 in /usr/local/lib/python3.11/dist-packages (from pandas) (2.9.0.post0)\n",
            "Requirement already satisfied: pytz>=2020.1 in /usr/local/lib/python3.11/dist-packages (from pandas) (2025.2)\n",
            "Requirement already satisfied: tzdata>=2022.7 in /usr/local/lib/python3.11/dist-packages (from pandas) (2025.2)\n",
            "Requirement already satisfied: six>=1.5 in /usr/local/lib/python3.11/dist-packages (from python-dateutil>=2.8.2->pandas) (1.17.0)\n",
            "Requirement already satisfied: rpy2 in /usr/local/lib/python3.11/dist-packages (3.5.17)\n",
            "Requirement already satisfied: cffi>=1.15.1 in /usr/local/lib/python3.11/dist-packages (from rpy2) (1.17.1)\n",
            "Requirement already satisfied: jinja2 in /usr/local/lib/python3.11/dist-packages (from rpy2) (3.1.6)\n",
            "Requirement already satisfied: tzlocal in /usr/local/lib/python3.11/dist-packages (from rpy2) (5.3.1)\n",
            "Requirement already satisfied: pycparser in /usr/local/lib/python3.11/dist-packages (from cffi>=1.15.1->rpy2) (2.22)\n",
            "Requirement already satisfied: MarkupSafe>=2.0 in /usr/local/lib/python3.11/dist-packages (from jinja2->rpy2) (3.0.2)\n"
          ]
        }
      ]
    },
    {
      "cell_type": "markdown",
      "source": [
        "# **Part 1: Importing the Dataset (2 Marks)**"
      ],
      "metadata": {
        "id": "rpmSP-W_6-ln"
      }
    },
    {
      "cell_type": "code",
      "execution_count": 71,
      "metadata": {
        "id": "GkBwVN6KeYL7"
      },
      "outputs": [],
      "source": [
        "# Import the pandas library\n",
        "import pandas"
      ]
    },
    {
      "cell_type": "code",
      "source": [
        "# Load dataset from GitHub\n",
        "# Corrected URL for raw data access on GitHub\n",
        "url = \"https://raw.githubusercontent.com/Ultrawebs/greenfuture-analysis/refs/heads/main/greenfuture_ideas_dataset.csv\"\n",
        "# Use pandas.read_csv to load data from a URL\n",
        "data = pandas.read_csv(url)\n",
        "\n",
        "# Preview the dataset\n",
        "# Use the head() method of a pandas DataFrame to preview the data\n",
        "print(data.head())"
      ],
      "metadata": {
        "colab": {
          "base_uri": "https://localhost:8080/"
        },
        "id": "XdUTATW3fFuV",
        "outputId": "c3b19ce5-597a-4a24-834e-161c391640f0"
      },
      "execution_count": 72,
      "outputs": [
        {
          "output_type": "stream",
          "name": "stdout",
          "text": [
            "  Employee ID Office Location            Department Idea Submission Date  \\\n",
            "0    587b45d8         Germany      Renewable Energy           16/04/2024   \n",
            "1    0d3e8b8e          Canada      Renewable Energy           14/01/2024   \n",
            "2    fa012fe7          France  Environmental Policy           10/01/2025   \n",
            "3    cb8ed680           Japan            Technology           24/12/2023   \n",
            "4    333fff26       Australia            Technology           13/02/2025   \n",
            "\n",
            "  Idea Title          Idea Category  Number of Votes Collaboration Status  \\\n",
            "0     Idea 1  Sustainable Transport              231   Single Contributor   \n",
            "1     Idea 2       Water Management              477  Cross-Regional Team   \n",
            "2     Idea 3       Renewable Energy               48  Cross-Regional Team   \n",
            "3     Idea 4       Circular Economy              330  Cross-Regional Team   \n",
            "4     Idea 5       Circular Economy              428   Single Contributor   \n",
            "\n",
            "  Approval Status Implementation Status Security Concern Flag  \n",
            "0         Pending           Not Started                    No  \n",
            "1        Approved           In Progress                    No  \n",
            "2        Approved           Not Started                   Yes  \n",
            "3        Approved             Completed                    No  \n",
            "4        Approved           Not Started                    No  \n"
          ]
        }
      ]
    },
    {
      "cell_type": "markdown",
      "source": [
        "# **Part 2: SQL Operations in R (3 Marks)**\n"
      ],
      "metadata": {
        "id": "Tkt6YJTSf6EF"
      }
    },
    {
      "cell_type": "markdown",
      "source": [
        "\n",
        "    \n",
        "## 2.1 Install & load required packages"
      ],
      "metadata": {
        "id": "xFe7haNa60ET"
      }
    },
    {
      "cell_type": "code",
      "source": [
        "# Load the rpy2 extension to enable R code execution\n",
        "%load_ext rpy2.ipython"
      ],
      "metadata": {
        "colab": {
          "base_uri": "https://localhost:8080/"
        },
        "id": "mMcfuzTHgXOl",
        "outputId": "67e16463-b4f2-45d6-e7a4-b296a25f8077"
      },
      "execution_count": 73,
      "outputs": [
        {
          "output_type": "stream",
          "name": "stdout",
          "text": [
            "The rpy2.ipython extension is already loaded. To reload it, use:\n",
            "  %reload_ext rpy2.ipython\n"
          ]
        }
      ]
    },
    {
      "cell_type": "code",
      "source": [
        "# Use %%R to indicate this cell should be executed as R code\n",
        "%%R\n",
        "install.packages(\"sqldf\")\n",
        "library(sqldf)"
      ],
      "metadata": {
        "colab": {
          "base_uri": "https://localhost:8080/",
          "height": 191
        },
        "id": "mhd8uQCpgER6",
        "outputId": "0a5a1060-83cd-4f54-9644-7217928f46e7"
      },
      "execution_count": 74,
      "outputs": [
        {
          "output_type": "display_data",
          "data": {
            "text/plain": [
              "Installing package into ‘/usr/local/lib/R/site-library’\n",
              "(as ‘lib’ is unspecified)\n",
              "trying URL 'https://cran.rstudio.com/src/contrib/sqldf_0.4-11.tar.gz'\n",
              "Content type 'application/x-gzip' length 63097 bytes (61 KB)\n",
              "==================================================\n",
              "downloaded 61 KB\n",
              "\n",
              "\n",
              "The downloaded source packages are in\n",
              "\t‘/tmp/RtmpMO56HE/downloaded_packages’\n"
            ]
          },
          "metadata": {}
        }
      ]
    },
    {
      "cell_type": "markdown",
      "source": [
        "##    2.2 SQL Statements: SELECT, INSERT, UPDATE, DELETE"
      ],
      "metadata": {
        "id": "oJW8oGg2hWrd"
      }
    },
    {
      "cell_type": "code",
      "source": [
        "# Use %%R to indicate this cell should be executed as R code\n",
        "# Use -i data to import the 'data' variable from the Python environment into R\n",
        "%%R -i data\n",
        "\n",
        "# Load required library\n",
        "library(sqldf)\n",
        "\n",
        "# SELECT: Display first 5 rows from 'data'\n",
        "sqldf(\"SELECT * FROM data LIMIT 5\")"
      ],
      "metadata": {
        "colab": {
          "base_uri": "https://localhost:8080/"
        },
        "id": "e66-Fpn_hgkl",
        "outputId": "75b16a14-c02e-4594-918d-68c9b8230d14"
      },
      "execution_count": 75,
      "outputs": [
        {
          "output_type": "stream",
          "name": "stdout",
          "text": [
            "  Employee ID Office Location           Department Idea Submission Date\n",
            "1    587b45d8         Germany     Renewable Energy           16/04/2024\n",
            "2    0d3e8b8e          Canada     Renewable Energy           14/01/2024\n",
            "3    fa012fe7          France Environmental Policy           10/01/2025\n",
            "4    cb8ed680           Japan           Technology           24/12/2023\n",
            "5    333fff26       Australia           Technology           13/02/2025\n",
            "  Idea Title         Idea Category Number of Votes Collaboration Status\n",
            "1     Idea 1 Sustainable Transport             231   Single Contributor\n",
            "2     Idea 2      Water Management             477  Cross-Regional Team\n",
            "3     Idea 3      Renewable Energy              48  Cross-Regional Team\n",
            "4     Idea 4      Circular Economy             330  Cross-Regional Team\n",
            "5     Idea 5      Circular Economy             428   Single Contributor\n",
            "  Approval Status Implementation Status Security Concern Flag\n",
            "1         Pending           Not Started                    No\n",
            "2        Approved           In Progress                    No\n",
            "3        Approved           Not Started                   Yes\n",
            "4        Approved             Completed                    No\n",
            "5        Approved           Not Started                    No\n"
          ]
        }
      ]
    },
    {
      "cell_type": "code",
      "source": [
        "# INSERT (create a temporary table and insert new row)\n",
        "# Use %%R to indicate this cell should be executed as R code\n",
        "# Use -i data to import the 'data' variable from the Python environment into R\n",
        "# Add -o temp_data to export the 'temp_data' variable from R back to Python\n",
        "%%R -i data -o temp_data\n",
        "\n",
        "# Create a temporary table with the first 5 rows from 'data'\n",
        "temp_data <- data[1:5, ]\n",
        "\n",
        "# Insert a new row into temp_data\n",
        "temp_data <- rbind(temp_data, c(\"E4001\", \"Delhi\", \"R&D\", \"20/04/2025\", \"Green Roof\", \"Urban Dev\", 12, \"Yes\", \"Pending\", \"No\", \"No\"))\n",
        "\n",
        "# Print the updated temporary data frame (optional, for verification)\n",
        "print(temp_data)"
      ],
      "metadata": {
        "colab": {
          "base_uri": "https://localhost:8080/"
        },
        "id": "rDdZdYhziSLZ",
        "outputId": "8f526b01-ac59-4094-c509-6c03f935ba19"
      },
      "execution_count": 76,
      "outputs": [
        {
          "output_type": "stream",
          "name": "stdout",
          "text": [
            "  Employee ID Office Location           Department Idea Submission Date\n",
            "0    587b45d8         Germany     Renewable Energy           16/04/2024\n",
            "1    0d3e8b8e          Canada     Renewable Energy           14/01/2024\n",
            "2    fa012fe7          France Environmental Policy           10/01/2025\n",
            "3    cb8ed680           Japan           Technology           24/12/2023\n",
            "4    333fff26       Australia           Technology           13/02/2025\n",
            "6       E4001           Delhi                  R&D           20/04/2025\n",
            "  Idea Title         Idea Category Number of Votes Collaboration Status\n",
            "0     Idea 1 Sustainable Transport             231   Single Contributor\n",
            "1     Idea 2      Water Management             477  Cross-Regional Team\n",
            "2     Idea 3      Renewable Energy              48  Cross-Regional Team\n",
            "3     Idea 4      Circular Economy             330  Cross-Regional Team\n",
            "4     Idea 5      Circular Economy             428   Single Contributor\n",
            "6 Green Roof             Urban Dev              12                  Yes\n",
            "  Approval Status Implementation Status Security Concern Flag\n",
            "0         Pending           Not Started                    No\n",
            "1        Approved           In Progress                    No\n",
            "2        Approved           Not Started                   Yes\n",
            "3        Approved             Completed                    No\n",
            "4        Approved           Not Started                    No\n",
            "6         Pending                    No                    No\n"
          ]
        }
      ]
    },
    {
      "cell_type": "code",
      "source": [
        "# This is the cell for the UPDATE operation\n",
        "# Use %%R to indicate this cell should be executed as R code\n",
        "# Use -i temp_data to import the 'temp_data' variable from the Python environment into R (exported in the previous cell)\n",
        "# Use -o temp_data to export the modified 'temp_data' back to the Python environment if needed later\n",
        "%%R -i temp_data -o temp_data\n",
        "\n",
        "# UPDATE the temporary data frame in R\n",
        "# Assuming the inserted row is now the 6th row\n",
        "if (nrow(temp_data) >= 6) {\n",
        "    temp_data[6, \"Approval.Status\"] <- \"Approved\"\n",
        "} else {\n",
        "    print(\"Error: Row 6 does not exist in temp_data for update.\")\n",
        "}\n",
        "\n",
        "# Print the updated temporary data frame (optional, for verification)\n",
        "print(temp_data)"
      ],
      "metadata": {
        "colab": {
          "base_uri": "https://localhost:8080/"
        },
        "id": "TH1nR-QIivxQ",
        "outputId": "c0813ac4-beb1-496a-b295-b2664bd71739"
      },
      "execution_count": 77,
      "outputs": [
        {
          "output_type": "stream",
          "name": "stdout",
          "text": [
            "  Employee ID Office Location           Department Idea Submission Date\n",
            "0    587b45d8         Germany     Renewable Energy           16/04/2024\n",
            "1    0d3e8b8e          Canada     Renewable Energy           14/01/2024\n",
            "2    fa012fe7          France Environmental Policy           10/01/2025\n",
            "3    cb8ed680           Japan           Technology           24/12/2023\n",
            "4    333fff26       Australia           Technology           13/02/2025\n",
            "6       E4001           Delhi                  R&D           20/04/2025\n",
            "  Idea Title         Idea Category Number of Votes Collaboration Status\n",
            "0     Idea 1 Sustainable Transport             231   Single Contributor\n",
            "1     Idea 2      Water Management             477  Cross-Regional Team\n",
            "2     Idea 3      Renewable Energy              48  Cross-Regional Team\n",
            "3     Idea 4      Circular Economy             330  Cross-Regional Team\n",
            "4     Idea 5      Circular Economy             428   Single Contributor\n",
            "6 Green Roof             Urban Dev              12                  Yes\n",
            "  Approval Status Implementation Status Security Concern Flag Approval.Status\n",
            "0         Pending           Not Started                    No            <NA>\n",
            "1        Approved           In Progress                    No            <NA>\n",
            "2        Approved           Not Started                   Yes            <NA>\n",
            "3        Approved             Completed                    No            <NA>\n",
            "4        Approved           Not Started                    No            <NA>\n",
            "6         Pending                    No                    No        Approved\n"
          ]
        }
      ]
    },
    {
      "cell_type": "code",
      "source": [
        "%%R -i temp_data -o temp_data\n",
        "\n",
        "# DELETE the 6th row (assuming 1-based indexing in R)\n",
        "# Using R syntax to remove the row at index 6\n",
        "temp_data <- temp_data[-6, ]\n",
        "\n",
        "# Print the updated temporary data frame (optional, for verification)\n",
        "print(temp_data)"
      ],
      "metadata": {
        "colab": {
          "base_uri": "https://localhost:8080/"
        },
        "id": "O94lwPQAkXFz",
        "outputId": "7fa05ed7-b6a9-4e6b-8f35-60b33898f533"
      },
      "execution_count": 78,
      "outputs": [
        {
          "output_type": "stream",
          "name": "stdout",
          "text": [
            "  Employee ID Office Location           Department Idea Submission Date\n",
            "0    587b45d8         Germany     Renewable Energy           16/04/2024\n",
            "1    0d3e8b8e          Canada     Renewable Energy           14/01/2024\n",
            "2    fa012fe7          France Environmental Policy           10/01/2025\n",
            "3    cb8ed680           Japan           Technology           24/12/2023\n",
            "4    333fff26       Australia           Technology           13/02/2025\n",
            "  Idea Title         Idea Category Number of Votes Collaboration Status\n",
            "0     Idea 1 Sustainable Transport             231   Single Contributor\n",
            "1     Idea 2      Water Management             477  Cross-Regional Team\n",
            "2     Idea 3      Renewable Energy              48  Cross-Regional Team\n",
            "3     Idea 4      Circular Economy             330  Cross-Regional Team\n",
            "4     Idea 5      Circular Economy             428   Single Contributor\n",
            "  Approval Status Implementation Status Security Concern Flag Approval.Status\n",
            "0         Pending           Not Started                    No            <NA>\n",
            "1        Approved           In Progress                    No            <NA>\n",
            "2        Approved           Not Started                   Yes            <NA>\n",
            "3        Approved             Completed                    No            <NA>\n",
            "4        Approved           Not Started                    No            <NA>\n"
          ]
        }
      ]
    },
    {
      "cell_type": "markdown",
      "source": [
        "# **Part 3: Mathematical and Aggregate SQL Functions (4 Marks)**"
      ],
      "metadata": {
        "id": "sp3PtRUF0jsg"
      }
    },
    {
      "cell_type": "code",
      "source": [
        "%%R\n",
        "\n",
        "# Total number of ideas submitted\n",
        "sqldf('SELECT COUNT(*) AS total_ideas FROM data')\n",
        "\n",
        "# Average number of votes\n",
        "sqldf('SELECT AVG(`Number of Votes`) AS avg_votes FROM data')\n",
        "\n",
        "# Max votes by any idea\n",
        "sqldf('SELECT MAX(`Number of Votes`) AS max_votes FROM data')\n",
        "\n",
        "# Number of approved ideas per region\n",
        "sqldf('SELECT `Office Location`, COUNT(*) AS approved_ideas FROM data WHERE `Approval Status` = \"Approved\" GROUP BY `Office Location`')"
      ],
      "metadata": {
        "colab": {
          "base_uri": "https://localhost:8080/"
        },
        "id": "iIwnoxXq1LIy",
        "outputId": "b4c30479-b4ad-4a00-fe4d-ab6972646d83"
      },
      "execution_count": 79,
      "outputs": [
        {
          "output_type": "stream",
          "name": "stdout",
          "text": [
            "   Office Location approved_ideas\n",
            "1        Australia             79\n",
            "2           Brazil             86\n",
            "3           Canada             87\n",
            "4            China             95\n",
            "5           France             78\n",
            "6          Germany             91\n",
            "7            India             69\n",
            "8            Japan             84\n",
            "9           Mexico             81\n",
            "10    South Africa            107\n",
            "11              UK             90\n",
            "12             USA             90\n"
          ]
        }
      ]
    },
    {
      "cell_type": "markdown",
      "source": [
        "# **Part 4: Data Manipulation & Transformation in R (3 Marks)**"
      ],
      "metadata": {
        "id": "f2znZiJp2Qez"
      }
    },
    {
      "cell_type": "code",
      "source": [
        "%%R\n",
        "# Load necessary library\n",
        "library(dplyr)\n",
        "\n",
        "# Assuming your dataset is already loaded in 'data' with columns:\n",
        "# 'Idea Title', 'Office Location', 'Number of Votes', 'Approval Status'\n",
        "\n",
        "# 1. Filter ideas that have more than 300 votes and are approved\n",
        "high_votes_approved <- data %>%\n",
        "  filter(`Number of Votes` > 300, `Approval Status` == \"Approved\")\n",
        "\n",
        "# 2. Select only relevant columns for better clarity\n",
        "selected_data <- high_votes_approved %>%\n",
        "  select(`Idea Title`, `Office Location`, `Number of Votes`, `Approval Status`)\n",
        "\n",
        "# 3. Create a new column 'Vote_Category' based on vote counts\n",
        "data <- data %>%\n",
        "  mutate(Vote_Category = case_when(\n",
        "    `Number of Votes` > 400 ~ \"High\",\n",
        "    `Number of Votes` > 200 ~ \"Medium\",\n",
        "    TRUE ~ \"Low\"\n",
        "  ))\n",
        "\n",
        "# 4. Count how many ideas fall into each vote category\n",
        "vote_summary <- data %>%\n",
        "  group_by(Vote_Category) %>%\n",
        "  summarise(Count = n())\n",
        "\n",
        "# Print outputs\n",
        "cat(\"Filtered and Selected Ideas with High Votes and Approval:\\n\")\n",
        "print(head(selected_data))\n",
        "\n",
        "cat(\"\\nSummary of Ideas by Vote Category:\\n\")\n",
        "print(vote_summary)\n"
      ],
      "metadata": {
        "colab": {
          "base_uri": "https://localhost:8080/"
        },
        "id": "ibDJ2XjX4N16",
        "outputId": "8e033e35-bc2b-4828-d0f5-84888077d8fa"
      },
      "execution_count": 80,
      "outputs": [
        {
          "output_type": "stream",
          "name": "stdout",
          "text": [
            "Filtered and Selected Ideas with High Votes and Approval:\n",
            "   Idea Title Office Location Number of Votes Approval Status\n",
            "1      Idea 2          Canada             477        Approved\n",
            "3      Idea 4           Japan             330        Approved\n",
            "4      Idea 5       Australia             428        Approved\n",
            "14    Idea 15          Brazil             425        Approved\n",
            "21    Idea 22          Canada             467        Approved\n",
            "23    Idea 24       Australia             302        Approved\n",
            "\n",
            "Summary of Ideas by Vote Category:\n",
            "# A tibble: 3 × 2\n",
            "  Vote_Category Count\n",
            "  <chr>         <int>\n",
            "1 High            598\n",
            "2 Low            1214\n",
            "3 Medium         1188\n"
          ]
        }
      ]
    },
    {
      "cell_type": "markdown",
      "source": [
        "# **Part 5: Data Visualization in R (3 Marks)**"
      ],
      "metadata": {
        "id": "OO8nwlXD6i9t"
      }
    },
    {
      "cell_type": "code",
      "source": [
        "%%R\n",
        "\n",
        "# Install required packages\n",
        "library(ggplot2)"
      ],
      "metadata": {
        "id": "KmH0bWhL8Zav"
      },
      "execution_count": 88,
      "outputs": []
    },
    {
      "cell_type": "markdown",
      "source": [
        "## 5.1 Histogram of Number of Votes Distribution"
      ],
      "metadata": {
        "id": "qaLFUaZ58Tyj"
      }
    },
    {
      "cell_type": "markdown",
      "source": [
        "**Significance:**\n",
        "* The histogram shows how votes are spread out among the ideas by grouping them into bins (intervals of vote counts). This helps to identify patterns such as whether most ideas receive low, medium, or high votes. It can reveal if the voting distribution is skewed, if there are common vote ranges, or if there are any peaks or gaps in the data. Such insights are useful for understanding overall engagement and can inform decision-makers about how the voting system is performing or if certain ideas are consistently receiving more attention."
      ],
      "metadata": {
        "id": "wCTGZxY88cmA"
      }
    },
    {
      "cell_type": "code",
      "source": [
        "%%R\n",
        "# 1. Histogram of Number of Votes distribution\n",
        "ggplot(data, aes(x = `Number of Votes`)) +\n",
        "  geom_histogram(binwidth = 20, fill = \"skyblue\", color = \"black\", alpha = 0.7) +\n",
        "  geom_density(aes(y = 20 * after_stat(count)), color = \"red\", linewidth = 1) +  # updated syntax\n",
        "  labs(title = \"Distribution of Number of Votes\",\n",
        "       x = \"Number of Votes\",\n",
        "       y = \"Count\") +\n",
        "  theme_minimal()"
      ],
      "metadata": {
        "colab": {
          "base_uri": "https://localhost:8080/",
          "height": 497
        },
        "id": "jgUp4MhA4xtv",
        "outputId": "07e611bf-d9be-48d8-e4da-0149266f1680"
      },
      "execution_count": 98,
      "outputs": [
        {
          "output_type": "display_data",
          "data": {
            "image/png": "[encoded data removed]",
            "text/plain": [
              "<IPython.core.display.Image object>"
            ]
          },
          "metadata": {}
        }
      ]
    },
    {
      "cell_type": "markdown",
      "source": [
        "## 5.2  Bar Plot (Count of Ideas by Vote Category)"
      ],
      "metadata": {
        "id": "KbB5ODeo7qlI"
      }
    },
    {
      "cell_type": "markdown",
      "source": [
        "**Significance:**\n",
        "* This plot shows the distribution of ideas based on how many votes they received (categorized as High, Medium, Low). It helps to quickly identify which categories have the most ideas and understand overall voting trends. This can highlight where most employee or stakeholder engagement is happening and indicate which ideas have more support."
      ],
      "metadata": {
        "id": "ao_bUi_u8I9C"
      }
    },
    {
      "cell_type": "code",
      "source": [
        "%%R\n",
        "\n",
        "# Calculate counts per Vote_Category for labels\n",
        "vote_counts <- data %>%\n",
        "  count(Vote_Category)\n",
        "\n",
        "# 2. Bar plot of count of ideas by Vote_Category\n",
        "ggplot(data, aes(x = Vote_Category, fill = Vote_Category)) +\n",
        "  geom_bar() +\n",
        "  geom_text(data = vote_counts, aes(x = Vote_Category, y = n, label = n),\n",
        "            vjust = -0.5, size = 4) +\n",
        "  labs(title = \"Count of Ideas by Vote Category\",\n",
        "       x = \"Vote Category\",\n",
        "       y = \"Number of Ideas\") +\n",
        "  scale_fill_manual(values = c(\"High\" = \"forestgreen\", \"Medium\" = \"goldenrod\", \"Low\" = \"tomato\")) +\n",
        "  theme_minimal() +\n",
        "  theme(legend.position = \"none\")"
      ],
      "metadata": {
        "colab": {
          "base_uri": "https://localhost:8080/",
          "height": 497
        },
        "id": "jyzZwk2C9UEZ",
        "outputId": "206e73e6-10f3-4bba-f542-91e2f9b9d24f"
      },
      "execution_count": 96,
      "outputs": [
        {
          "output_type": "display_data",
          "data": {
            "image/png": "[encoded data removed]",
            "text/plain": [
              "<IPython.core.display.Image object>"
            ]
          },
          "metadata": {}
        }
      ]
    },
    {
      "cell_type": "markdown",
      "source": [
        "## 5.3 Boxplot (Votes by Approval Status)"
      ],
      "metadata": {
        "id": "4pihYwi17y3w"
      }
    },
    {
      "cell_type": "markdown",
      "source": [
        "**Significance:**\n",
        "* The boxplot visualizes the spread and range of votes for ideas grouped by their approval status (e.g., Approved, Pending, Rejected). It helps detect differences in voting patterns between approved and non-approved ideas, revealing if higher votes correlate with approvals. Outliers or unusual vote distributions can also be spotted, which might need further investigation."
      ],
      "metadata": {
        "id": "n6tJALHJ8EBv"
      }
    },
    {
      "cell_type": "code",
      "source": [
        "%%R\n",
        "\n",
        "# Calculate median votes by Approval Status\n",
        "medians <- data %>%\n",
        "  group_by(`Approval Status`) %>%\n",
        "  summarise(median_votes = median(`Number of Votes`))\n",
        "\n",
        "# 3. Boxplot of Number of Votes by Approval Status\n",
        "ggplot(data, aes(x = `Approval Status`, y = `Number of Votes`, fill = `Approval Status`)) +\n",
        "  geom_boxplot() +\n",
        "  geom_text(data = medians, aes(x = `Approval Status`, y = median_votes, label = median_votes),\n",
        "            vjust = -0.5, color = \"black\", size = 4) +\n",
        "  labs(title = \"Number of Votes by Approval Status\",\n",
        "       x = \"Approval Status\",\n",
        "       y = \"Number of Votes\") +\n",
        "  scale_fill_brewer(palette = \"Set2\") +\n",
        "  theme_minimal() +\n",
        "  theme(legend.position = \"none\")"
      ],
      "metadata": {
        "colab": {
          "base_uri": "https://localhost:8080/",
          "height": 497
        },
        "id": "A6uZveDl9D_x",
        "outputId": "c749405f-9c55-4917-8e63-b0874cbe0f3e"
      },
      "execution_count": 93,
      "outputs": [
        {
          "output_type": "display_data",
          "data": {
            "image/png": "[encoded data removed]",
            "text/plain": [
              "<IPython.core.display.Image object>"
            ]
          },
          "metadata": {}
        }
      ]
    },
    {
      "cell_type": "markdown",
      "source": [
        "## 5.4 Pie Chart (Collaboration Status Distribution)"
      ],
      "metadata": {
        "id": "wii60z_c73gi"
      }
    },
    {
      "cell_type": "markdown",
      "source": [
        "**Significance:**\n",
        "\n",
        "*   This pie chart shows the proportion of ideas submitted under different collaboration statuses (e.g., Individual, Team, Cross-Regional). It provides an intuitive visual to understand how collaborative the innovation process is, emphasizing the extent of teamwork versus solo efforts. This insight can help the organization assess the effectiveness of their collaboration policies and identify areas to encourage more teamwork.\n"
      ],
      "metadata": {
        "id": "pks5qgc877Ze"
      }
    },
    {
      "cell_type": "code",
      "source": [
        "%%R\n",
        "\n",
        "# Calculate counts and percentages\n",
        "collab_data <- data %>%\n",
        "  count(`Collaboration Status`) %>%\n",
        "  mutate(Percentage = round(100 * n / sum(n), 1),\n",
        "         Label = paste0(`Collaboration Status`, \": \", Percentage, \"%\"))\n",
        "\n",
        "\n",
        "# Plot 4: Pie chart of Collaboration Status distribution\n",
        "# Assuming column is 'Collaboration Status'\n",
        "ggplot(collab_data, aes(x = \"\", y = n, fill = `Collaboration Status`)) +\n",
        "  geom_bar(stat = \"identity\", width = 1, color = \"white\") +\n",
        "  coord_polar(\"y\") +\n",
        "  theme_void() +\n",
        "  geom_text(aes(label = Label),\n",
        "            position = position_stack(vjust = 0.5), size = 4) +\n",
        "  labs(title = \"Collaboration Status Distribution with Percentage\")"
      ],
      "metadata": {
        "colab": {
          "base_uri": "https://localhost:8080/",
          "height": 497
        },
        "id": "eWU-dlZS84hT",
        "outputId": "be138b97-87a8-4bba-9afb-0432db228f4f"
      },
      "execution_count": 94,
      "outputs": [
        {
          "output_type": "display_data",
          "data": {
            "image/png": "[encoded data removed]",
            "text/plain": [
              "<IPython.core.display.Image object>"
            ]
          },
          "metadata": {}
        }
      ]
    }
  ]
}